{
 "cells": [
  {
   "cell_type": "code",
   "execution_count": 25,
   "id": "566880ca",
   "metadata": {},
   "outputs": [
    {
     "ename": "SyntaxError",
     "evalue": "invalid syntax (1130985270.py, line 6)",
     "output_type": "error",
     "traceback": [
      "\u001b[1;36m  File \u001b[1;32m\"C:\\Users\\UEA_Laptop\\AppData\\Local\\Temp\\ipykernel_11076\\1130985270.py\"\u001b[1;36m, line \u001b[1;32m6\u001b[0m\n\u001b[1;33m    jupyter nbconvert Predictive_Modelling.ipynb --to notebook --ClearOutputPreprocessor.enabled=True --stdout > output_predictive_modelling.ipynb\u001b[0m\n\u001b[1;37m            ^\u001b[0m\n\u001b[1;31mSyntaxError\u001b[0m\u001b[1;31m:\u001b[0m invalid syntax\n"
     ]
    }
   ],
   "source": [
    "##########################################\n",
    "#### Script to clear notebook outputs ####\n",
    "##########################################\n",
    "!jupyter nbconvert --ClearOutputPreprocessor.enabled=True --inplace Predictive_Modelling.ipynb\n",
    "\n",
    "#!jupyter nbconvert Predictive_Modelling.ipynb --to notebook --ClearOutputPreprocessor.enabled=True --stdout > output_predictive_modelling.ipynb"
   ]
  },
  {
   "cell_type": "code",
   "execution_count": null,
   "id": "3581a2cf",
   "metadata": {},
   "outputs": [],
   "source": []
  }
 ],
 "metadata": {
  "kernelspec": {
   "display_name": "Python 3 (ipykernel)",
   "language": "python",
   "name": "python3"
  },
  "language_info": {
   "codemirror_mode": {
    "name": "ipython",
    "version": 3
   },
   "file_extension": ".py",
   "mimetype": "text/x-python",
   "name": "python",
   "nbconvert_exporter": "python",
   "pygments_lexer": "ipython3",
   "version": "3.9.15"
  }
 },
 "nbformat": 4,
 "nbformat_minor": 5
}
