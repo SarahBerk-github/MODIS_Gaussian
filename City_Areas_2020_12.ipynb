{
 "cells": [
  {
   "cell_type": "code",
   "execution_count": 54,
   "metadata": {},
   "outputs": [],
   "source": [
    "import shapefile\n",
    "import os\n",
    "import earthpy as et\n",
    "import pandas as pd\n",
    "import fiona\n",
    "import pyproj\n",
    "from pyproj import CRS\n",
    "import numpy as np"
   ]
  },
  {
   "cell_type": "code",
   "execution_count": 10,
   "metadata": {},
   "outputs": [],
   "source": [
    "os.chdir(os.path.join(et.io.HOME, 'Documents', 'UEA', 'Urban_Heat', 'CUSSH', 'City_Area'))"
   ]
  },
  {
   "cell_type": "code",
   "execution_count": null,
   "metadata": {},
   "outputs": [],
   "source": [
    "sf = shapefile.Reader('Morphological_Urban_Area.shp')"
   ]
  },
  {
   "cell_type": "code",
   "execution_count": 18,
   "metadata": {},
   "outputs": [
    {
     "name": "stdout",
     "output_type": "stream",
     "text": [
      "      OBJECTID  FID_1                         Aggname        Area     X2016  \\\n",
      "0            1    1.0                        Winnipeg  476.219088   765.850   \n",
      "1            2    2.0                         Calabar  141.186185   487.705   \n",
      "2            3    3.0                           Anqiu  142.614875   522.101   \n",
      "3            4    4.0                         Maracay  337.575116  1186.158   \n",
      "4            6    6.0  Tel Aviv-Yafo (Tel Aviv-Jaffa)  783.070329  3661.189   \n",
      "...        ...    ...                             ...         ...       ...   \n",
      "1564      1566  361.0                  FlorianÃ³polis  270.565359  1212.376   \n",
      "1565      1567  357.0                            FÃ¨s  161.723642  1196.538   \n",
      "1566      1568  959.0                San Luis PotosÃ­  302.613824  1167.758   \n",
      "1567      1569  585.0                 KÃ¶ln (Cologne)  103.709743  1041.936   \n",
      "1568      1570  652.0                           LomÃ©  333.072800   984.904   \n",
      "\n",
      "      Cntry_C                                 Cntry__     Shape_Leng  \\\n",
      "0       124.0                                  Canada  383225.072805   \n",
      "1       566.0                                 Nigeria   92047.866192   \n",
      "2       156.0                                   China   85910.670217   \n",
      "3       862.0  Venezuela (Bolivarian Republic of)\\r\\n  124586.331505   \n",
      "4       376.0                                  Israel  228415.427916   \n",
      "...       ...                                     ...            ...   \n",
      "1564     76.0                                  Brazil  207252.930067   \n",
      "1565    504.0                                 Morocco   62462.513777   \n",
      "1566    484.0                                  Mexico  113356.121400   \n",
      "1567    276.0                                 Germany  104021.453857   \n",
      "1568    768.0                                    Togo  150345.542721   \n",
      "\n",
      "        Shape_Area        ZS_sum  worldpop  \\\n",
      "0     4.762191e+08  6.869692e+05       687   \n",
      "1     1.411862e+08  2.881452e+05       288   \n",
      "2     1.426149e+08  3.295527e+05       330   \n",
      "3     3.375751e+08  8.885399e+05       889   \n",
      "4     7.830703e+08  2.626707e+06      2627   \n",
      "...            ...           ...       ...   \n",
      "1564  2.705654e+08  6.904032e+05       690   \n",
      "1565  1.617236e+08  1.078988e+06      1079   \n",
      "1566  3.026138e+08  1.111135e+06      1111   \n",
      "1567  1.037097e+08  3.887837e+05       389   \n",
      "1568  3.330728e+08  1.993223e+06      1993   \n",
      "\n",
      "                                               geometry  \n",
      "0     MULTIPOLYGON (((-97.22405 49.81905, -97.22402 ...  \n",
      "1     MULTIPOLYGON (((8.31244 5.01402, 8.31257 5.012...  \n",
      "2     MULTIPOLYGON (((119.21816 36.46394, 119.21835 ...  \n",
      "3     MULTIPOLYGON (((-67.46811 10.12179, -67.46507 ...  \n",
      "4     MULTIPOLYGON (((34.74527 31.97946, 34.74530 31...  \n",
      "...                                                 ...  \n",
      "1564  MULTIPOLYGON (((-48.63607 -27.64410, -48.63660...  \n",
      "1565  POLYGON ((-5.07517 33.97300, -5.07602 33.97367...  \n",
      "1566  MULTIPOLYGON (((-101.06199 22.13270, -101.0610...  \n",
      "1567  MULTIPOLYGON (((6.90448 50.92879, 6.90461 50.9...  \n",
      "1568  MULTIPOLYGON (((1.15842 6.11505, 1.15841 6.114...  \n",
      "\n",
      "[1569 rows x 12 columns]\n"
     ]
    }
   ],
   "source": [
    "import geopandas as gpd\n",
    "shapefile = gpd.read_file(\"Morphological_Urban_Area.shp\")\n",
    "print(shapefile)"
   ]
  },
  {
   "cell_type": "code",
   "execution_count": 91,
   "metadata": {},
   "outputs": [
    {
     "name": "stdout",
     "output_type": "stream",
     "text": [
      "    GID_0          NAME_0    GID_1   NAME_1 NL_NAME_1       GID_2  \\\n",
      "0     GBR  United Kingdom  GBR.1_1  England      None   GBR.1.1_1   \n",
      "1     GBR  United Kingdom  GBR.1_1  England      None   GBR.1.2_1   \n",
      "2     GBR  United Kingdom  GBR.1_1  England      None   GBR.1.3_1   \n",
      "3     GBR  United Kingdom  GBR.1_1  England      None   GBR.1.4_1   \n",
      "4     GBR  United Kingdom  GBR.1_1  England      None   GBR.1.5_1   \n",
      "..    ...             ...      ...      ...       ...         ...   \n",
      "178   GBR  United Kingdom  GBR.4_1    Wales      None  GBR.4.18_1   \n",
      "179   GBR  United Kingdom  GBR.4_1    Wales      None  GBR.4.19_1   \n",
      "180   GBR  United Kingdom  GBR.4_1    Wales      None  GBR.4.20_1   \n",
      "181   GBR  United Kingdom  GBR.4_1    Wales      None  GBR.4.21_1   \n",
      "182   GBR  United Kingdom  GBR.4_1    Wales      None  GBR.4.22_1   \n",
      "\n",
      "                           NAME_2                        VARNAME_2 NL_NAME_2  \\\n",
      "0                        Barnsley                             None      None   \n",
      "1    Bath and North East Somerset                             None      None   \n",
      "2                    Bedfordshire                             None      None   \n",
      "3                      Birmingham                             None      None   \n",
      "4           Blackburn with Darwen  Blackburn, Blackburn and Darwen      None   \n",
      "..                            ...                              ...       ...   \n",
      "178          Rhondda, Cynon, Taff                             None      None   \n",
      "179                       Swansea                             None      None   \n",
      "180                       Torfaen                             None      None   \n",
      "181             Vale of Glamorgan                             None      None   \n",
      "182                       Wrexham                             None      None   \n",
      "\n",
      "                          TYPE_2                    ENGTYPE_2  CC_2 HASC_2  \\\n",
      "0           Metropolitan Borough         Metropolitan Borough  None  GB.BX   \n",
      "1              Unitary Authority            Unitary Authority  None  GB.BN   \n",
      "2          Administrative County                         None  None  GB.CB   \n",
      "3    Metropolitan Borough (City)  Metropolitan Borough (City)  None  GB.BI   \n",
      "4              Unitary Authority            Unitary Authority  None  GB.BW   \n",
      "..                           ...                          ...   ...    ...   \n",
      "178            Unitary Authority            Unitary Authority  None  GB.RT   \n",
      "179            Unitary Authority            Unitary Authority  None  GB.SW   \n",
      "180            Unitary Authority            Unitary Authority  None  GB.TF   \n",
      "181            Unitary Authority            Unitary Authority  None  GB.VG   \n",
      "182            Unitary Authority            Unitary Authority  None  GB.WX   \n",
      "\n",
      "                                              geometry  \n",
      "0    POLYGON ((-1.78997 53.47293, -1.79306 53.47778...  \n",
      "1    POLYGON ((-2.68629 51.31516, -2.68066 51.32836...  \n",
      "2    POLYGON ((-0.58508 52.11364, -0.58806 52.11805...  \n",
      "3    POLYGON ((-1.73417 52.51014, -1.73984 52.50894...  \n",
      "4    POLYGON ((-2.51111 53.63377, -2.51317 53.63582...  \n",
      "..                                                 ...  \n",
      "178  POLYGON ((-3.57142 51.68555, -3.57222 51.69083...  \n",
      "179  MULTIPOLYGON (((-4.32417 51.56625, -4.32417 51...  \n",
      "180  POLYGON ((-3.13107 51.70694, -3.13223 51.71112...  \n",
      "181  MULTIPOLYGON (((-3.10472 51.34153, -3.10472 51...  \n",
      "182  POLYGON ((-3.14059 53.08431, -3.11451 53.10301...  \n",
      "\n",
      "[183 rows x 14 columns]\n"
     ]
    }
   ],
   "source": [
    "os.chdir(os.path.join(et.io.HOME, 'Documents', 'UEA', 'Urban_Heat', 'CUSSH', 'City_Area','Administrative' ))\n",
    "uk_sf = gpd.read_file(\"gadm36_GBR_2.shp\")\n",
    "print(uk_sf)"
   ]
  },
  {
   "cell_type": "code",
   "execution_count": 92,
   "metadata": {},
   "outputs": [
    {
     "data": {
      "text/plain": [
       "35    POLYGON ((0.16627 51.39856, 0.16917 51.38861, ...\n",
       "Name: geometry, dtype: geometry"
      ]
     },
     "execution_count": 92,
     "metadata": {},
     "output_type": "execute_result"
    }
   ],
   "source": [
    "uk_sf[uk_sf[\"NAME_2\"] == 'Greater London'].geometry"
   ]
  },
  {
   "cell_type": "code",
   "execution_count": 93,
   "metadata": {},
   "outputs": [],
   "source": [
    "City_Lat = 51.51279\n",
    "City_Lon = -0.09184\n",
    "#function for finding the UTM projection\n",
    "def utm_zoner(lon, lat):\n",
    "    utm_lon = lon+180\n",
    "    utm_zone = int(np.ceil(utm_lon/6))\n",
    "    south_hem =''\n",
    "    if lat<0:\n",
    "        south_hem = ' +south'\n",
    "    proj_str = f'+proj=utm +zone={utm_zone}{south_hem}'\n",
    "    return proj_str\n",
    "\n",
    "#Get the UTM of the city\n",
    "local_utm = CRS.from_proj4(utm_zoner(City_Lon, City_Lat))\n",
    "local_epsg = local_utm.to_epsg()"
   ]
  },
  {
   "cell_type": "code",
   "execution_count": 94,
   "metadata": {},
   "outputs": [
    {
     "data": {
      "text/plain": [
       "32630"
      ]
     },
     "execution_count": 94,
     "metadata": {},
     "output_type": "execute_result"
    }
   ],
   "source": [
    "local_epsg"
   ]
  },
  {
   "cell_type": "code",
   "execution_count": 78,
   "metadata": {},
   "outputs": [
    {
     "name": "stderr",
     "output_type": "stream",
     "text": [
      "C:\\Anaconda3\\envs\\project_environment\\lib\\site-packages\\pyproj\\crs\\crs.py:53: FutureWarning: '+init=<authority>:<code>' syntax is deprecated. '<authority>:<code>' is the preferred initialization method. When making the change, be mindful of axis order changes: https://pyproj4.github.io/pyproj/stable/gotchas.html#axis-order-changes-in-proj-6\n",
      "  return _prepare_from_string(\" \".join(pjargs))\n"
     ]
    }
   ],
   "source": [
    "#set the CRS \n",
    "uk_sf= uk_sf.to_crs({'init': 'epsg:3857'})"
   ]
  },
  {
   "cell_type": "code",
   "execution_count": null,
   "metadata": {},
   "outputs": [],
   "source": [
    "uk_sf2['geometry'].area/ 10**6"
   ]
  },
  {
   "cell_type": "code",
   "execution_count": 95,
   "metadata": {},
   "outputs": [],
   "source": [
    "#change crs to local\n",
    "uk_sf2 = uk_sf.to_crs(epsg=27700).copy()"
   ]
  },
  {
   "cell_type": "code",
   "execution_count": 96,
   "metadata": {},
   "outputs": [],
   "source": [
    "#calculate area\n",
    "uk_sf2[\"area\"] = uk_sf2['geometry'].area/ (10**6)"
   ]
  },
  {
   "cell_type": "code",
   "execution_count": 97,
   "metadata": {},
   "outputs": [
    {
     "data": {
      "text/html": [
       "<div>\n",
       "<style scoped>\n",
       "    .dataframe tbody tr th:only-of-type {\n",
       "        vertical-align: middle;\n",
       "    }\n",
       "\n",
       "    .dataframe tbody tr th {\n",
       "        vertical-align: top;\n",
       "    }\n",
       "\n",
       "    .dataframe thead th {\n",
       "        text-align: right;\n",
       "    }\n",
       "</style>\n",
       "<table border=\"1\" class=\"dataframe\">\n",
       "  <thead>\n",
       "    <tr style=\"text-align: right;\">\n",
       "      <th></th>\n",
       "      <th>GID_0</th>\n",
       "      <th>NAME_0</th>\n",
       "      <th>GID_1</th>\n",
       "      <th>NAME_1</th>\n",
       "      <th>NL_NAME_1</th>\n",
       "      <th>GID_2</th>\n",
       "      <th>NAME_2</th>\n",
       "      <th>VARNAME_2</th>\n",
       "      <th>NL_NAME_2</th>\n",
       "      <th>TYPE_2</th>\n",
       "      <th>ENGTYPE_2</th>\n",
       "      <th>CC_2</th>\n",
       "      <th>HASC_2</th>\n",
       "      <th>geometry</th>\n",
       "      <th>area</th>\n",
       "    </tr>\n",
       "  </thead>\n",
       "  <tbody>\n",
       "    <tr>\n",
       "      <th>35</th>\n",
       "      <td>GBR</td>\n",
       "      <td>United Kingdom</td>\n",
       "      <td>GBR.1_1</td>\n",
       "      <td>England</td>\n",
       "      <td>None</td>\n",
       "      <td>GBR.1.36_1</td>\n",
       "      <td>Greater London</td>\n",
       "      <td>None</td>\n",
       "      <td>None</td>\n",
       "      <td>Region</td>\n",
       "      <td>Region</td>\n",
       "      <td>None</td>\n",
       "      <td>GB.GL</td>\n",
       "      <td>POLYGON ((550791.609 168839.889, 551025.836 16...</td>\n",
       "      <td>1611.203977</td>\n",
       "    </tr>\n",
       "  </tbody>\n",
       "</table>\n",
       "</div>"
      ],
      "text/plain": [
       "   GID_0          NAME_0    GID_1   NAME_1 NL_NAME_1       GID_2  \\\n",
       "35   GBR  United Kingdom  GBR.1_1  England      None  GBR.1.36_1   \n",
       "\n",
       "            NAME_2 VARNAME_2 NL_NAME_2  TYPE_2 ENGTYPE_2  CC_2 HASC_2  \\\n",
       "35  Greater London      None      None  Region    Region  None  GB.GL   \n",
       "\n",
       "                                             geometry         area  \n",
       "35  POLYGON ((550791.609 168839.889, 551025.836 16...  1611.203977  "
      ]
     },
     "execution_count": 97,
     "metadata": {},
     "output_type": "execute_result"
    }
   ],
   "source": [
    "uk_sf2[uk_sf2[\"NAME_2\"] == 'Greater London']"
   ]
  },
  {
   "cell_type": "code",
   "execution_count": 79,
   "metadata": {},
   "outputs": [],
   "source": [
    "uk_sf_3 = uk_sf['geometry'].to_crs({'init': 'epsg:32630'})\\\n",
    "               .map(lambda p: p.area / 10**6)"
   ]
  },
  {
   "cell_type": "code",
   "execution_count": 81,
   "metadata": {},
   "outputs": [
    {
     "data": {
      "text/plain": [
       "2.541995791073866"
      ]
     },
     "execution_count": 81,
     "metadata": {},
     "output_type": "execute_result"
    }
   ],
   "source": [
    "uk_sf_3[109]"
   ]
  },
  {
   "cell_type": "code",
   "execution_count": 85,
   "metadata": {},
   "outputs": [
    {
     "data": {
      "text/plain": [
       "<AxesSubplot:>"
      ]
     },
     "execution_count": 85,
     "metadata": {},
     "output_type": "execute_result"
    },
    {
     "data": {
      "image/png": "[encoded data removed]",
      "text/plain": [
       "<Figure size 432x288 with 1 Axes>"
      ]
     },
     "metadata": {
      "needs_background": "light"
     },
     "output_type": "display_data"
    }
   ],
   "source": [
    "uk_sf2[uk_sf2[\"NAME_3\"] == 'London'].plot()"
   ]
  },
  {
   "cell_type": "code",
   "execution_count": null,
   "metadata": {},
   "outputs": [],
   "source": []
  }
 ],
 "metadata": {
  "kernelspec": {
   "display_name": "Python 3",
   "language": "python",
   "name": "python3"
  },
  "language_info": {
   "codemirror_mode": {
    "name": "ipython",
    "version": 3
   },
   "file_extension": ".py",
   "mimetype": "text/x-python",
   "name": "python",
   "nbconvert_exporter": "python",
   "pygments_lexer": "ipython3",
   "version": "3.7.8"
  }
 },
 "nbformat": 4,
 "nbformat_minor": 4
}
